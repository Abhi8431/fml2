{
 "cells": [
  {
   "cell_type": "code",
   "execution_count": 1,
   "id": "3ec61c78",
   "metadata": {},
   "outputs": [],
   "source": [
    "import pandas as pd\n",
    "import numpy as np\n",
    "import matplotlib.pyplot as plt"
   ]
  },
  {
   "cell_type": "code",
   "execution_count": 2,
   "id": "2e6cdeb4",
   "metadata": {},
   "outputs": [
    {
     "data": {
      "text/html": [
       "<div>\n",
       "<style scoped>\n",
       "    .dataframe tbody tr th:only-of-type {\n",
       "        vertical-align: middle;\n",
       "    }\n",
       "\n",
       "    .dataframe tbody tr th {\n",
       "        vertical-align: top;\n",
       "    }\n",
       "\n",
       "    .dataframe thead th {\n",
       "        text-align: right;\n",
       "    }\n",
       "</style>\n",
       "<table border=\"1\" class=\"dataframe\">\n",
       "  <thead>\n",
       "    <tr style=\"text-align: right;\">\n",
       "      <th></th>\n",
       "      <th>x</th>\n",
       "      <th>y</th>\n",
       "    </tr>\n",
       "  </thead>\n",
       "  <tbody>\n",
       "    <tr>\n",
       "      <th>0</th>\n",
       "      <td>6.1101</td>\n",
       "      <td>17.5920</td>\n",
       "    </tr>\n",
       "    <tr>\n",
       "      <th>1</th>\n",
       "      <td>5.5277</td>\n",
       "      <td>9.1302</td>\n",
       "    </tr>\n",
       "    <tr>\n",
       "      <th>2</th>\n",
       "      <td>8.5186</td>\n",
       "      <td>13.6620</td>\n",
       "    </tr>\n",
       "    <tr>\n",
       "      <th>3</th>\n",
       "      <td>7.0032</td>\n",
       "      <td>11.8540</td>\n",
       "    </tr>\n",
       "    <tr>\n",
       "      <th>4</th>\n",
       "      <td>5.8598</td>\n",
       "      <td>6.8233</td>\n",
       "    </tr>\n",
       "  </tbody>\n",
       "</table>\n",
       "</div>"
      ],
      "text/plain": [
       "        x        y\n",
       "0  6.1101  17.5920\n",
       "1  5.5277   9.1302\n",
       "2  8.5186  13.6620\n",
       "3  7.0032  11.8540\n",
       "4  5.8598   6.8233"
      ]
     },
     "execution_count": 2,
     "metadata": {},
     "output_type": "execute_result"
    }
   ],
   "source": [
    "col = ['x','y']\n",
    "df = pd.read_csv('Food-Truck(For Linear Regression Program).csv' , names = col)\n",
    "df.head()"
   ]
  },
  {
   "cell_type": "code",
   "execution_count": 3,
   "id": "f6f14576",
   "metadata": {},
   "outputs": [
    {
     "data": {
      "image/png": "[encoded data removed]",
      "text/plain": [
       "<Figure size 640x480 with 1 Axes>"
      ]
     },
     "metadata": {},
     "output_type": "display_data"
    }
   ],
   "source": [
    "plt.scatter(df['x'], df['y'])\n",
    "plt.show()"
   ]
  },
  {
   "cell_type": "code",
   "execution_count": 4,
   "id": "b9ee788d",
   "metadata": {},
   "outputs": [
    {
     "data": {
      "text/html": [
       "<div>\n",
       "<style scoped>\n",
       "    .dataframe tbody tr th:only-of-type {\n",
       "        vertical-align: middle;\n",
       "    }\n",
       "\n",
       "    .dataframe tbody tr th {\n",
       "        vertical-align: top;\n",
       "    }\n",
       "\n",
       "    .dataframe thead th {\n",
       "        text-align: right;\n",
       "    }\n",
       "</style>\n",
       "<table border=\"1\" class=\"dataframe\">\n",
       "  <thead>\n",
       "    <tr style=\"text-align: right;\">\n",
       "      <th></th>\n",
       "      <th>x</th>\n",
       "      <th>y</th>\n",
       "    </tr>\n",
       "  </thead>\n",
       "  <tbody>\n",
       "    <tr>\n",
       "      <th>x</th>\n",
       "      <td>1.000000</td>\n",
       "      <td>0.837873</td>\n",
       "    </tr>\n",
       "    <tr>\n",
       "      <th>y</th>\n",
       "      <td>0.837873</td>\n",
       "      <td>1.000000</td>\n",
       "    </tr>\n",
       "  </tbody>\n",
       "</table>\n",
       "</div>"
      ],
      "text/plain": [
       "          x         y\n",
       "x  1.000000  0.837873\n",
       "y  0.837873  1.000000"
      ]
     },
     "execution_count": 4,
     "metadata": {},
     "output_type": "execute_result"
    }
   ],
   "source": [
    "df.corr()"
   ]
  },
  {
   "cell_type": "code",
   "execution_count": 5,
   "id": "0f9b7d6e",
   "metadata": {},
   "outputs": [
    {
     "name": "stdout",
     "output_type": "stream",
     "text": [
      "Mean of x: 8.159800000000002\n",
      "Mean of y: 5.83913505154639\n"
     ]
    }
   ],
   "source": [
    "# Calculate means\n",
    "m_x, m_y = np.mean(df['x']), np.mean(df['y'])\n",
    "print('Mean of x:', m_x)\n",
    "print('Mean of y:', m_y)"
   ]
  },
  {
   "cell_type": "code",
   "execution_count": 6,
   "id": "b7dc9076",
   "metadata": {},
   "outputs": [
    {
     "name": "stdout",
     "output_type": "stream",
     "text": [
      "Standard deviation of x: 3.849883995922716\n",
      "Standard deviation of y: 5.48178525707763\n"
     ]
    }
   ],
   "source": [
    "# Calculate standard deviations\n",
    "sd_x, sd_y = np.std(df['x']), np.std(df['y'])\n",
    "print('Standard deviation of x:', sd_x)\n",
    "print('Standard deviation of y:', sd_y)"
   ]
  },
  {
   "cell_type": "code",
   "execution_count": 8,
   "id": "3c6ba97a",
   "metadata": {},
   "outputs": [
    {
     "name": "stdout",
     "output_type": "stream",
     "text": [
      "Pearson Correlation Coefficient (r): 0.837873232526341\n"
     ]
    }
   ],
   "source": [
    "# Calculate Pearson correlation coefficient (r)\n",
    "r = np.corrcoef(df['x'], df['y'])[0, 1]\n",
    "print(\"Pearson Correlation Coefficient (r):\", r)"
   ]
  },
  {
   "cell_type": "code",
   "execution_count": 9,
   "id": "82321dfa",
   "metadata": {},
   "outputs": [
    {
     "name": "stdout",
     "output_type": "stream",
     "text": [
      "Slope (b) Coefficient: 1.1930336441895937\n",
      "Intercept (a) Coefficient: -3.89578087831186\n"
     ]
    }
   ],
   "source": [
    "# Calculate the slope (b) and intercept (a) for linear regression\n",
    "b = r * (sd_y / sd_x)\n",
    "a = m_y - (b * m_x)\n",
    "print(\"Slope (b) Coefficient:\", b)\n",
    "print(\"Intercept (a) Coefficient:\", a)"
   ]
  },
  {
   "cell_type": "code",
   "execution_count": 10,
   "id": "8ab8480d",
   "metadata": {},
   "outputs": [],
   "source": [
    "# Calculate predicted y values and residuals\n",
    "df['y`'] = df['x'] * b + a\n",
    "df['y - y`'] = df['y'] - df['y`']"
   ]
  },
  {
   "cell_type": "code",
   "execution_count": 13,
   "id": "fa8cd9f9",
   "metadata": {},
   "outputs": [
    {
     "data": {
      "text/html": [
       "<div>\n",
       "<style scoped>\n",
       "    .dataframe tbody tr th:only-of-type {\n",
       "        vertical-align: middle;\n",
       "    }\n",
       "\n",
       "    .dataframe tbody tr th {\n",
       "        vertical-align: top;\n",
       "    }\n",
       "\n",
       "    .dataframe thead th {\n",
       "        text-align: right;\n",
       "    }\n",
       "</style>\n",
       "<table border=\"1\" class=\"dataframe\">\n",
       "  <thead>\n",
       "    <tr style=\"text-align: right;\">\n",
       "      <th></th>\n",
       "      <th>x</th>\n",
       "      <th>y</th>\n",
       "      <th>y`</th>\n",
       "      <th>y - y`</th>\n",
       "    </tr>\n",
       "  </thead>\n",
       "  <tbody>\n",
       "    <tr>\n",
       "      <th>0</th>\n",
       "      <td>6.1101</td>\n",
       "      <td>17.5920</td>\n",
       "      <td>3.393774</td>\n",
       "      <td>14.198226</td>\n",
       "    </tr>\n",
       "    <tr>\n",
       "      <th>1</th>\n",
       "      <td>5.5277</td>\n",
       "      <td>9.1302</td>\n",
       "      <td>2.698951</td>\n",
       "      <td>6.431249</td>\n",
       "    </tr>\n",
       "    <tr>\n",
       "      <th>2</th>\n",
       "      <td>8.5186</td>\n",
       "      <td>13.6620</td>\n",
       "      <td>6.267196</td>\n",
       "      <td>7.394804</td>\n",
       "    </tr>\n",
       "    <tr>\n",
       "      <th>3</th>\n",
       "      <td>7.0032</td>\n",
       "      <td>11.8540</td>\n",
       "      <td>4.459272</td>\n",
       "      <td>7.394728</td>\n",
       "    </tr>\n",
       "    <tr>\n",
       "      <th>4</th>\n",
       "      <td>5.8598</td>\n",
       "      <td>6.8233</td>\n",
       "      <td>3.095158</td>\n",
       "      <td>3.728142</td>\n",
       "    </tr>\n",
       "  </tbody>\n",
       "</table>\n",
       "</div>"
      ],
      "text/plain": [
       "        x        y        y`     y - y`\n",
       "0  6.1101  17.5920  3.393774  14.198226\n",
       "1  5.5277   9.1302  2.698951   6.431249\n",
       "2  8.5186  13.6620  6.267196   7.394804\n",
       "3  7.0032  11.8540  4.459272   7.394728\n",
       "4  5.8598   6.8233  3.095158   3.728142"
      ]
     },
     "execution_count": 13,
     "metadata": {},
     "output_type": "execute_result"
    }
   ],
   "source": [
    "df.head()"
   ]
  },
  {
   "cell_type": "code",
   "execution_count": 14,
   "id": "a8519369",
   "metadata": {},
   "outputs": [],
   "source": [
    "# Calculate sum of squared residuals (ssr), sum of squared errors (sse), and total sum of squares (sst)\n",
    "ssr = np.sum(df['y - y`'] ** 2)\n",
    "sse = np.sum(df['y - y`'])\n",
    "sst = np.sum((df['x'] - m_x) ** 2)"
   ]
  },
  {
   "cell_type": "code",
   "execution_count": 15,
   "id": "6e5a3cca",
   "metadata": {},
   "outputs": [],
   "source": [
    "r2 = 1 - (ssr / sst)"
   ]
  },
  {
   "cell_type": "code",
   "execution_count": 16,
   "id": "cd2ab989",
   "metadata": {},
   "outputs": [
    {
     "name": "stdout",
     "output_type": "stream",
     "text": [
      "SSE (Sum of Squared Errors) : 5.133671265866724e-13\n",
      "SSR (Sum of Squared Regression) : 868.5324469391846\n",
      "R-squared (Coefficient of Determination) : 0.39588582509238857\n"
     ]
    }
   ],
   "source": [
    "print(\"SSE (Sum of Squared Errors) :\", sse)\n",
    "print(\"SSR (Sum of Squared Regression) :\", ssr)\n",
    "print(\"R-squared (Coefficient of Determination) :\", r2)"
   ]
  }
 ],
 "metadata": {
  "kernelspec": {
   "display_name": "Python 3 (ipykernel)",
   "language": "python",
   "name": "python3"
  },
  "language_info": {
   "codemirror_mode": {
    "name": "ipython",
    "version": 3
   },
   "file_extension": ".py",
   "mimetype": "text/x-python",
   "name": "python",
   "nbconvert_exporter": "python",
   "pygments_lexer": "ipython3",
   "version": "3.9.13"
  }
 },
 "nbformat": 4,
 "nbformat_minor": 5
}
